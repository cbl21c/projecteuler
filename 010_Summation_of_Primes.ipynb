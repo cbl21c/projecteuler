{
 "cells": [
  {
   "cell_type": "markdown",
   "metadata": {},
   "source": [
    "# Problem 010 - Summation of Primes\n",
    "\n",
    "The sum of the primes below 10 is 2 + 3 + 5 + 7 = 17.\n",
    "\n",
    "Find the sum of all the primes below two million."
   ]
  },
  {
   "cell_type": "code",
   "execution_count": 1,
   "metadata": {},
   "outputs": [
    {
     "name": "stdout",
     "output_type": "stream",
     "text": [
      "142913828922\n"
     ]
    }
   ],
   "source": [
    "import mathutils\n",
    "\n",
    "# method 1\n",
    "ans = 0\n",
    "for n in range(2, 2000000):\n",
    "    if mathutils.isprime(n):\n",
    "        ans = ans + n\n",
    "        \n",
    "print(ans)\n"
   ]
  },
  {
   "cell_type": "code",
   "execution_count": 2,
   "metadata": {},
   "outputs": [
    {
     "name": "stdout",
     "output_type": "stream",
     "text": [
      "142913828922\n"
     ]
    }
   ],
   "source": [
    "import mathutils\n",
    "\n",
    "# method 2 - more efficient\n",
    "# construct an array which indicates whether the index is prime or not\n",
    "prime = [1] * 2000000\n",
    "prime[0] = 0\n",
    "prime[1] = 0\n",
    "\n",
    "ans = 0\n",
    "LAST = 2000000\n",
    "for n in range(2, LAST):\n",
    "    if prime[n] == 0:\n",
    "        continue\n",
    "        \n",
    "    if not mathutils.isprime(n):\n",
    "        prime[n] = 0\n",
    "    else:\n",
    "        ans = ans + n\n",
    "    \n",
    "    # mark all multiples of n as not prime\n",
    "    q = int(LAST / n)\n",
    "    for p in range(2, q):\n",
    "        prime[n * p] = 0\n",
    "\n",
    "print(ans)"
   ]
  },
  {
   "cell_type": "code",
   "execution_count": null,
   "metadata": {},
   "outputs": [],
   "source": []
  }
 ],
 "metadata": {
  "kernelspec": {
   "display_name": "Python 2",
   "language": "python",
   "name": "python2"
  },
  "language_info": {
   "codemirror_mode": {
    "name": "ipython",
    "version": 2
   },
   "file_extension": ".py",
   "mimetype": "text/x-python",
   "name": "python",
   "nbconvert_exporter": "python",
   "pygments_lexer": "ipython2",
   "version": "2.7.16"
  }
 },
 "nbformat": 4,
 "nbformat_minor": 2
}
