{
 "cells": [
  {
   "cell_type": "markdown",
   "metadata": {},
   "source": [
    "# Problem 009 - Special Pythagorean Triplet\n",
    "\n",
    "A Pythagorean triplet is a set of three natural numbers, a < b < c, for which, $a^2 + b^2 = c^2$\n",
    "\n",
    "For example, $3^2 + 4^2 = 9 + 16 = 25 = 5^2$.\n",
    "\n",
    "There exists exactly one Pythagorean triplet for which a + b + c = 1000.\n",
    "Find the product abc."
   ]
  },
  {
   "cell_type": "code",
   "execution_count": 2,
   "metadata": {},
   "outputs": [
    {
     "name": "stdout",
     "output_type": "stream",
     "text": [
      "a=200 b=375 c=425\n",
      "a^2=40000 b^2=140625 c^2=180625\n",
      "31875000\n"
     ]
    }
   ],
   "source": [
    "found = False\n",
    "\n",
    "a = 1\n",
    "while a <= 998 and not found:\n",
    "    asquare = a * a\n",
    "    \n",
    "    b = 1\n",
    "    while a + b <= 999 and not found:\n",
    "        bsquare = b * b\n",
    "        \n",
    "        c = 1000 - a - b\n",
    "        csquare = c * c\n",
    "        if asquare + bsquare == csquare:\n",
    "            found = True\n",
    "        else:\n",
    "            b = b + 1\n",
    "            \n",
    "    if not found:\n",
    "        a = a + 1\n",
    "        \n",
    "print('a={0} b={1} c={2}'.format(a, b, c))\n",
    "print('a^2={0} b^2={1} c^2={2}'.format(asquare, bsquare, csquare))\n",
    "print(a * b * c)\n",
    "\n"
   ]
  },
  {
   "cell_type": "code",
   "execution_count": null,
   "metadata": {},
   "outputs": [],
   "source": []
  }
 ],
 "metadata": {
  "kernelspec": {
   "display_name": "Python 2",
   "language": "python",
   "name": "python2"
  },
  "language_info": {
   "codemirror_mode": {
    "name": "ipython",
    "version": 2
   },
   "file_extension": ".py",
   "mimetype": "text/x-python",
   "name": "python",
   "nbconvert_exporter": "python",
   "pygments_lexer": "ipython2",
   "version": "2.7.16"
  }
 },
 "nbformat": 4,
 "nbformat_minor": 2
}
