{
 "cells": [
  {
   "cell_type": "markdown",
   "metadata": {},
   "source": [
    "# Problem 003 - Largest Prime Factor\n",
    "\n",
    "The prime factors of 13195 are 5, 7, 13 and 29.<br>\n",
    "\n",
    "What is the largest prime factor of the number 600851475143 ?"
   ]
  },
  {
   "cell_type": "code",
   "execution_count": 1,
   "metadata": {},
   "outputs": [
    {
     "name": "stdout",
     "output_type": "stream",
     "text": [
      "6857\n"
     ]
    }
   ],
   "source": [
    "import math\n",
    "import mathutils\n",
    "\n",
    "BIGNUM = 600851475143\n",
    "root = int(math.sqrt(BIGNUM))\n",
    "prime = False\n",
    "lpf = None\n",
    "for factor in range(2, root + 1):\n",
    "    if BIGNUM % factor == 0 and mathutils.isprime(factor):\n",
    "        lpf = factor\n",
    "\n",
    "print(lpf)\n"
   ]
  },
  {
   "cell_type": "code",
   "execution_count": null,
   "metadata": {},
   "outputs": [],
   "source": []
  }
 ],
 "metadata": {
  "kernelspec": {
   "display_name": "Python 2",
   "language": "python",
   "name": "python2"
  },
  "language_info": {
   "codemirror_mode": {
    "name": "ipython",
    "version": 2
   },
   "file_extension": ".py",
   "mimetype": "text/x-python",
   "name": "python",
   "nbconvert_exporter": "python",
   "pygments_lexer": "ipython2",
   "version": "2.7.16"
  }
 },
 "nbformat": 4,
 "nbformat_minor": 2
}
