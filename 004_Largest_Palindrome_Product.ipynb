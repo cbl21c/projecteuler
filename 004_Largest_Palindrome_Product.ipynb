{
 "cells": [
  {
   "cell_type": "markdown",
   "metadata": {},
   "source": [
    "# Problem 004 - Largest Palindrome Product\n",
    "\n",
    "A palindromic number reads the same both ways. The largest palindrome made from the product of two 2-digit numbers is 9009 = 91 × 99.<p>\n",
    "\n",
    "Find the largest palindrome made from the product of two 3-digit numbers.<p>"
   ]
  },
  {
   "cell_type": "code",
   "execution_count": 2,
   "metadata": {},
   "outputs": [
    {
     "name": "stdout",
     "output_type": "stream",
     "text": [
      "906609\n"
     ]
    }
   ],
   "source": [
    "prod = 0\n",
    "a = 999\n",
    "\n",
    "for a in range(999, 100, -1):\n",
    "    for b in range(999, 100, -1):\n",
    "        p = a * b\n",
    "        if p > prod:\n",
    "            d0 = p % 10\n",
    "            d1 = (p / 10) % 10\n",
    "            d2 = (p / 100) % 10\n",
    "            d3 = (p / 1000) % 10\n",
    "            d4 = (p / 10000) % 10\n",
    "            d5 = (p / 100000) % 10\n",
    "            if (d0 == d5) and (d1 == d4) and (d2 == d3):\n",
    "                prod = p\n",
    "\n",
    "print(prod)"
   ]
  },
  {
   "cell_type": "code",
   "execution_count": null,
   "metadata": {},
   "outputs": [],
   "source": []
  }
 ],
 "metadata": {
  "kernelspec": {
   "display_name": "Python 2",
   "language": "python",
   "name": "python2"
  },
  "language_info": {
   "codemirror_mode": {
    "name": "ipython",
    "version": 2
   },
   "file_extension": ".py",
   "mimetype": "text/x-python",
   "name": "python",
   "nbconvert_exporter": "python",
   "pygments_lexer": "ipython2",
   "version": "2.7.16"
  }
 },
 "nbformat": 4,
 "nbformat_minor": 2
}
