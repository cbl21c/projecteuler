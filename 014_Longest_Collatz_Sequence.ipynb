{
 "cells": [
  {
   "cell_type": "markdown",
   "metadata": {},
   "source": [
    "# Problem 014 - Longest Collatz Sequence\n",
    "\n",
    "The following iterative sequence is defined for the set of positive integers:\n",
    "\n",
    "n → n/2 (n is even)<br>\n",
    "n → 3n + 1 (n is odd)<br>\n",
    "\n",
    "Using the rule above and starting with 13, we generate the following sequence:\n",
    "\n",
    "13 → 40 → 20 → 10 → 5 → 16 → 8 → 4 → 2 → 1<br>\n",
    "\n",
    "It can be seen that this sequence (starting at 13 and finishing at 1) contains 10 terms. Although it has not been proved yet (Collatz Problem), it is thought that all starting numbers finish at 1.\n",
    "\n",
    "Which starting number, under one million, produces the longest chain?\n",
    "\n",
    "NOTE: Once the chain starts the terms are allowed to go above one million.\n"
   ]
  },
  {
   "cell_type": "code",
   "execution_count": null,
   "metadata": {},
   "outputs": [],
   "source": [
    "MAXNUM = 999999\n",
    "\n",
    "maxstart = 0\n",
    "maxlen = 0\n",
    "\n",
    "for n in range(MAXNUM, 1, -1):\n",
    "    num = n\n",
    "    sequence = []\n",
    "    \n",
    "    while num > 1:\n",
    "        sequence.append(num)\n",
    "        \n",
    "        if num % 2 == 0:\n",
    "            num = num / 2\n",
    "        else:\n",
    "            num = 3 * num + 1\n",
    "    \n",
    "    sequence.append(num)\n",
    "    \n",
    "    if len(sequence) > maxlen:\n",
    "        maxlen = len(sequence)\n",
    "        maxstart = n\n",
    "\n",
    "print('maximum sequence length = {0}'.format(maxlen))"
   ]
  }
 ],
 "metadata": {
  "kernelspec": {
   "display_name": "Python 2",
   "language": "python",
   "name": "python2"
  },
  "language_info": {
   "codemirror_mode": {
    "name": "ipython",
    "version": 2
   },
   "file_extension": ".py",
   "mimetype": "text/x-python",
   "name": "python",
   "nbconvert_exporter": "python",
   "pygments_lexer": "ipython2",
   "version": "2.7.16"
  }
 },
 "nbformat": 4,
 "nbformat_minor": 2
}
