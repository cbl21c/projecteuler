{
 "cells": [
  {
   "cell_type": "markdown",
   "metadata": {},
   "source": [
    "# Problem 018 - Maximum Path Sum 1\n",
    "\n",
    "By starting at the top of the triangle below and moving to adjacent numbers on the row below, the maximum total from top to bottom is 23.\n",
    "\n",
    "<pre>\n",
    "      <font color=\"red\">3</font>\n",
    "    <font color=\"red\">7</font>   4\n",
    "  2   <font color=\"red\">4</font>   6\n",
    "8   5   <font color=\"red\">9</font>   3\n",
    "</pre>\n",
    "\n",
    "That is, 3 + 7 + 4 + 9 = 23.\n",
    "\n",
    "Find the maximum total from top to bottom of the triangle below:\n",
    "\n",
    "<pre>\n",
    "                                          75\n",
    "                                       95    64\n",
    "                                    17    47    82\n",
    "                                 18    35    87    10\n",
    "                              20    04    82    47    65\n",
    "                           19    01    23    75    03    34\n",
    "                        88    02    77    73    07    63    67\n",
    "                     99    65    04    28    06    16    70    92\n",
    "                  41    41    26    56    83    40    80    70    33\n",
    "               41    48    72    33    47    32    37    16    94    29\n",
    "            53    71    44    65    25    43    91    52    97    51    14\n",
    "         70    11    33    28    77    73    17    78    39    68    17    57\n",
    "      91    71    52    38    17    14    91    43    58    50    27    29    48\n",
    "   63    66    04    68    89    53    67    30    73    16    69    87    40    31\n",
    "04    62    98    27    23    09    70    98    73    93    38    53    60    04    23\n",
    "</pre>\n",
    "\n",
    "NOTE: As there are only 16384 routes, it is possible to solve this problem by trying every route. However, Problem 67, is the same challenge with a triangle containing one-hundred rows; it cannot be solved by brute force, and requires a clever method! ;o)"
   ]
  },
  {
   "cell_type": "code",
   "execution_count": 1,
   "metadata": {},
   "outputs": [
    {
     "name": "stdout",
     "output_type": "stream",
     "text": [
      "1074 \n"
     ]
    }
   ],
   "source": [
    "import sys\n",
    "\n",
    "def showPyramid(p, rows):\n",
    "    for m in range(rows):\n",
    "        for n in range(len(p[m])):\n",
    "            sys.stdout.write('{0} '.format(p[m][n]))\n",
    "\n",
    "        sys.stdout.write('\\n')\n",
    "\n",
    "\n",
    "fh = open('pyramid.txt')\n",
    "text = fh.read()\n",
    "fh.close()\n",
    "\n",
    "lines = text.split('\\n')\n",
    "rows = len(lines) - 1\n",
    "node = [None] * rows\n",
    "\n",
    "for n in range(rows):\n",
    "    strlist = lines[n].split()\n",
    "    node[n] = list(map(int, strlist))\n",
    "\n",
    "# start from lowest level of pyramid and work upwards\n",
    "# compare two adjacent values and select largest one\n",
    "for n in range (rows - 1, 0, -1):\n",
    "    #showPyramid(node, n)\n",
    "    for m in range(len(node[n]) - 1):\n",
    "        if node[n][m] > node[n][m + 1]:\n",
    "            node[n - 1][m] = node[n - 1][m] + node[n][m]\n",
    "        else:\n",
    "            node[n - 1][m] = node[n - 1][m] + node[n][m + 1]\n",
    "\n",
    "showPyramid(node, 1)\n",
    "\n"
   ]
  },
  {
   "cell_type": "code",
   "execution_count": null,
   "metadata": {},
   "outputs": [],
   "source": []
  }
 ],
 "metadata": {
  "kernelspec": {
   "display_name": "Python 2",
   "language": "python",
   "name": "python2"
  },
  "language_info": {
   "codemirror_mode": {
    "name": "ipython",
    "version": 2
   },
   "file_extension": ".py",
   "mimetype": "text/x-python",
   "name": "python",
   "nbconvert_exporter": "python",
   "pygments_lexer": "ipython2",
   "version": "2.7.16"
  }
 },
 "nbformat": 4,
 "nbformat_minor": 2
}
