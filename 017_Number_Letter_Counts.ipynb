{
 "cells": [
  {
   "cell_type": "markdown",
   "metadata": {},
   "source": [
    "# Problem 017 - Number Letter Counts\n",
    "\n",
    "If the numbers 1 to 5 are written out in words: one, two, three, four, five, then there are 3 + 3 + 5 + 4 + 4 = 19 letters used in total.\n",
    "\n",
    "If all the numbers from 1 to 1000 (one thousand) inclusive were written out in words, how many letters would be used?\n",
    "\n",
    "\n",
    "NOTE: Do not count spaces or hyphens. For example, 342 (three hundred and forty-two) contains 23 letters and 115 (one hundred and fifteen) contains 20 letters. The use of \"and\" when writing out numbers is in compliance with British usage."
   ]
  },
  {
   "cell_type": "code",
   "execution_count": 2,
   "metadata": {},
   "outputs": [
    {
     "name": "stdout",
     "output_type": "stream",
     "text": [
      "21124\n"
     ]
    }
   ],
   "source": [
    "vocab = [''] * 20\n",
    "vocab[1] = 'one'\n",
    "vocab[2] = 'two'\n",
    "vocab[3] = 'three'\n",
    "vocab[4] = 'four'\n",
    "vocab[5] = 'five'\n",
    "vocab[6] = 'six'\n",
    "vocab[7] = 'seven'\n",
    "vocab[8] = 'eight'\n",
    "vocab[9] = 'nine'\n",
    "vocab[10] = 'ten'\n",
    "vocab[11] = 'eleven'\n",
    "vocab[12] = 'twelve'\n",
    "vocab[13] = 'thirteen'\n",
    "vocab[14] = 'fourteen'\n",
    "vocab[15] = 'fifteen'\n",
    "vocab[16] = 'sixteen'\n",
    "vocab[17] = 'seventeen'\n",
    "vocab[18] = 'eighteen'\n",
    "vocab[19] = 'nineteen'\n",
    "\n",
    "tenwords = [''] * 10\n",
    "tenwords[2] = 'twenty'\n",
    "tenwords[3] = 'thirty'\n",
    "tenwords[4] = 'forty'\n",
    "tenwords[5] = 'fifty'\n",
    "tenwords[6] = 'sixty'\n",
    "tenwords[7] = 'seventy'\n",
    "tenwords[8] = 'eighty'\n",
    "tenwords[9] = 'ninety'\n",
    "\n",
    "HUNDRED = 'hundred'\n",
    "THOUSAND = 'thousand'\n",
    "\n",
    "def numwords(a):\n",
    "    words = ''\n",
    "    mod100 = a % 100\n",
    "\n",
    "    ones = a % 10\n",
    "    tens = (a / 10) % 10\n",
    "    hundreds = (a / 100) % 10\n",
    "    thousands = (a / 1000) % 10\n",
    "\n",
    "    if thousands > 0:\n",
    "        words = vocab[thousands] + ' ' + THOUSAND\n",
    "    if hundreds > 0:\n",
    "        if len(words) > 0:\n",
    "            words = words + ' '\n",
    "        words = vocab[hundreds] + ' ' + HUNDRED\n",
    "\n",
    "    if mod100 == 0:\n",
    "        return words\n",
    "\n",
    "    if len(words) > 0:\n",
    "        words = words + ' and '\n",
    "\n",
    "    if mod100 <= 19:\n",
    "        words = words + vocab[mod100]\n",
    "    else:\n",
    "        words = words + tenwords[tens] + ' ' + vocab[ones]\n",
    "\n",
    "    return words\n",
    "\n",
    "\n",
    "allwords = ''\n",
    "for num in range(1, 1001):\n",
    "    s = numwords(num)\n",
    "    # print(s)\n",
    "    allwords = allwords + s.replace(' ', '')\n",
    "\n",
    "print(len(allwords))\n"
   ]
  },
  {
   "cell_type": "code",
   "execution_count": null,
   "metadata": {},
   "outputs": [],
   "source": []
  }
 ],
 "metadata": {
  "kernelspec": {
   "display_name": "Python 2",
   "language": "python",
   "name": "python2"
  },
  "language_info": {
   "codemirror_mode": {
    "name": "ipython",
    "version": 2
   },
   "file_extension": ".py",
   "mimetype": "text/x-python",
   "name": "python",
   "nbconvert_exporter": "python",
   "pygments_lexer": "ipython2",
   "version": "2.7.16"
  }
 },
 "nbformat": 4,
 "nbformat_minor": 2
}
